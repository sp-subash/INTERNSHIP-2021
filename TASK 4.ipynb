{
 "cells": [
  {
   "cell_type": "markdown",
   "metadata": {
    "id": "90UFckGQASfM"
   },
   "source": [
    "# **The Sparks Foundation || GRIP_MAY-21**\n",
    "\n",
    "\n",
    "---\n",
    "\n",
    "\n",
    "\n",
    "### **Data Science and Business Analytics**\n",
    "\n",
    "**TASK 4 - Exploratory Data Analysis - Terrorism**\n",
    "\n",
    "**Author : SATHISH PRASAD A**\n",
    "\n",
    "---\n",
    "\n",
    "\n",
    "● Perform ‘Exploratory Data Analysis’ on dataset ‘Global Terrorism’\n",
    "\n",
    "● As a security/defense analyst, try to find out the hot zone of terrorism. \n",
    "\n",
    "● What all security issues and insights you can derive by EDA? \n"
   ]
  },
  {
   "cell_type": "markdown",
   "metadata": {
    "id": "obtZjGeUB0uM"
   },
   "source": [
    "#**Importing the libraries**"
   ]
  },
  {
   "cell_type": "code",
   "execution_count": null,
   "metadata": {
    "id": "LNulQaqOAKyZ"
   },
   "outputs": [],
   "source": [
    "import pandas as pd\n",
    "import numpy as np\n",
    "import seaborn as sns\n",
    "import matplotlib.pyplot as plt"
   ]
  },
  {
   "cell_type": "markdown",
   "metadata": {
    "id": "owqDWKlnCJ9T"
   },
   "source": [
    "# **Importing the dataset**"
   ]
  },
  {
   "cell_type": "code",
   "execution_count": null,
   "metadata": {
    "id": "isvr1QBcAKyg"
   },
   "outputs": [],
   "source": [
    "data = pd.read_csv('A:/college/PG/2ND SEM/INTERNSHIPS/Task4-main/Task4-main/TASK4.csv',encoding='ISO-8859-1')"
   ]
  },
  {
   "cell_type": "code",
   "execution_count": null,
   "metadata": {
    "id": "3NHkMqvxAKyj",
    "outputId": "f80e336b-72a3-497f-df01-82495b88b372"
   },
   "outputs": [
    {
     "name": "stdout",
     "output_type": "stream",
     "text": [
      "eventid ,iyear ,imonth ,iday ,approxdate ,extended ,resolution ,country ,country_txt ,region ,region_txt ,provstate ,city ,latitude ,longitude ,specificity ,vicinity ,location ,summary ,crit1 ,crit2 ,crit3 ,doubtterr ,alternative ,alternative_txt ,multiple ,success ,suicide ,attacktype1 ,attacktype1_txt ,attacktype2 ,attacktype2_txt ,attacktype3 ,attacktype3_txt ,targtype1 ,targtype1_txt ,targsubtype1 ,targsubtype1_txt ,corp1 ,target1 ,natlty1 ,natlty1_txt ,targtype2 ,targtype2_txt ,targsubtype2 ,targsubtype2_txt ,corp2 ,target2 ,natlty2 ,natlty2_txt ,targtype3 ,targtype3_txt ,targsubtype3 ,targsubtype3_txt ,corp3 ,target3 ,natlty3 ,natlty3_txt ,gname ,gsubname ,gname2 ,gsubname2 ,gname3 ,gsubname3 ,motive ,guncertain1 ,guncertain2 ,guncertain3 ,individual ,nperps ,nperpcap ,claimed ,claimmode ,claimmode_txt ,claim2 ,claimmode2 ,claimmode2_txt ,claim3 ,claimmode3 ,claimmode3_txt ,compclaim ,weaptype1 ,weaptype1_txt ,weapsubtype1 ,weapsubtype1_txt ,weaptype2 ,weaptype2_txt ,weapsubtype2 ,weapsubtype2_txt ,weaptype3 ,weaptype3_txt ,weapsubtype3 ,weapsubtype3_txt ,weaptype4 ,weaptype4_txt ,weapsubtype4 ,weapsubtype4_txt ,weapdetail ,nkill ,nkillus ,nkillter ,nwound ,nwoundus ,nwoundte ,property ,propextent ,propextent_txt ,propvalue ,propcomment ,ishostkid ,nhostkid ,nhostkidus ,nhours ,ndays ,divert ,kidhijcountry ,ransom ,ransomamt ,ransomamtus ,ransompaid ,ransompaidus ,ransomnote ,hostkidoutcome ,hostkidoutcome_txt ,nreleased ,addnotes ,scite1 ,scite2 ,scite3 ,dbsource ,INT_LOG ,INT_IDEO ,INT_MISC ,INT_ANY ,related ,"
     ]
    }
   ],
   "source": [
    "for i in data.columns:\n",
    "    print(i,end =\" ,\")"
   ]
  },
  {
   "cell_type": "code",
   "execution_count": null,
   "metadata": {
    "id": "UrqdNkmQAKyk",
    "outputId": "cd56913b-eac6-44b0-b25f-ae363af5e98e"
   },
   "outputs": [
    {
     "data": {
      "text/plain": [
       "(181691, 135)"
      ]
     },
     "execution_count": 11,
     "metadata": {
      "tags": []
     },
     "output_type": "execute_result"
    }
   ],
   "source": [
    "data.shape"
   ]
  },
  {
   "cell_type": "code",
   "execution_count": null,
   "metadata": {
    "id": "CVxT0FpBAKym"
   },
   "outputs": [],
   "source": [
    "cols = []\n",
    "for i in data.columns:\n",
    "    if data[i].isnull().sum()>150000:\n",
    "        cols.append(i)"
   ]
  },
  {
   "cell_type": "code",
   "execution_count": null,
   "metadata": {
    "id": "DdBX8DjpAKyw"
   },
   "outputs": [],
   "source": [
    "data_new = data.drop(cols,axis=1)"
   ]
  },
  {
   "cell_type": "code",
   "execution_count": null,
   "metadata": {
    "id": "vXpkwjQhAKyz",
    "outputId": "f758f8d9-31ff-4cfc-f266-d18250ba726b"
   },
   "outputs": [
    {
     "data": {
      "text/plain": [
       "(181691, 67)"
      ]
     },
     "execution_count": 14,
     "metadata": {
      "tags": []
     },
     "output_type": "execute_result"
    }
   ],
   "source": [
    "data_new.shape"
   ]
  },
  {
   "cell_type": "code",
   "execution_count": null,
   "metadata": {
    "id": "rG8OoBG4AKy1"
   },
   "outputs": [],
   "source": [
    "\n",
    "data_new.fillna(0,inplace=True)"
   ]
  },
  {
   "cell_type": "code",
   "execution_count": null,
   "metadata": {
    "id": "l7MW9nm2AKy3",
    "outputId": "467b4e92-7034-49a5-8dc1-783f4c5681d8"
   },
   "outputs": [
    {
     "data": {
      "text/plain": [
       "Index(['eventid', 'iyear', 'imonth', 'iday', 'extended', 'country',\n",
       "       'country_txt', 'region', 'region_txt', 'provstate', 'city', 'latitude',\n",
       "       'longitude', 'specificity', 'vicinity', 'location', 'summary', 'crit1',\n",
       "       'crit2', 'crit3', 'doubtterr', 'multiple', 'success', 'suicide',\n",
       "       'attacktype1', 'attacktype1_txt', 'targtype1', 'targtype1_txt',\n",
       "       'targsubtype1', 'targsubtype1_txt', 'corp1', 'target1', 'natlty1',\n",
       "       'natlty1_txt', 'gname', 'motive', 'guncertain1', 'individual', 'nperps',\n",
       "       'nperpcap', 'claimed', 'weaptype1', 'weaptype1_txt', 'weapsubtype1',\n",
       "       'weapsubtype1_txt', 'weapdetail', 'nkill', 'nkillus', 'nkillter',\n",
       "       'nwound', 'nwoundus', 'nwoundte', 'property', 'propextent',\n",
       "       'propextent_txt', 'propvalue', 'propcomment', 'ishostkid', 'ransom',\n",
       "       'scite1', 'scite2', 'scite3', 'dbsource', 'INT_LOG', 'INT_IDEO',\n",
       "       'INT_MISC', 'INT_ANY'],\n",
       "      dtype='object')"
      ]
     },
     "execution_count": 16,
     "metadata": {
      "tags": []
     },
     "output_type": "execute_result"
    }
   ],
   "source": [
    "data_new.columns"
   ]
  },
  {
   "cell_type": "code",
   "execution_count": null,
   "metadata": {
    "id": "_t9Ji-N1AKy5"
   },
   "outputs": [],
   "source": [
    "countries_with_most_terrorism = data_new.country_txt.value_counts().head(10)\n",
    "countries = list(countries_with_most_terrorism.index)\n"
   ]
  },
  {
   "cell_type": "code",
   "execution_count": null,
   "metadata": {
    "id": "4MWIWeHSAKy6",
    "outputId": "fe20b8bc-3147-427f-bef4-4208252d3351"
   },
   "outputs": [
    {
     "data": {
      "text/plain": [
       "Text(0.5, 1.0, 'Countries with most terrorism')"
      ]
     },
     "execution_count": 19,
     "metadata": {
      "tags": []
     },
     "output_type": "execute_result"
    },
    {
     "data": {
      "image/png": "[encoded data removed]",
      "text/plain": [
       "<Figure size 1008x360 with 1 Axes>"
      ]
     },
     "metadata": {
      "needs_background": "light",
      "tags": []
     },
     "output_type": "display_data"
    }
   ],
   "source": [
    "\n",
    "fig, ax = plt.subplots(figsize=(14,5))\n",
    "ax.bar(countries_with_most_terrorism.index,countries_with_most_terrorism.values)\n",
    "plt.title('Countries with most terrorism')"
   ]
  },
  {
   "cell_type": "code",
   "execution_count": null,
   "metadata": {
    "id": "vQr5-41_AKy-",
    "outputId": "ec25ea27-6aeb-4a8d-fa2a-e71b7867eb81"
   },
   "outputs": [
    {
     "data": {
      "text/plain": [
       "['Iraq',\n",
       " 'Pakistan',\n",
       " 'Afghanistan',\n",
       " 'India',\n",
       " 'Colombia',\n",
       " 'Philippines',\n",
       " 'Peru',\n",
       " 'El Salvador',\n",
       " 'United Kingdom',\n",
       " 'Turkey']"
      ]
     },
     "execution_count": 20,
     "metadata": {
      "tags": []
     },
     "output_type": "execute_result"
    }
   ],
   "source": [
    "countries"
   ]
  },
  {
   "cell_type": "markdown",
   "metadata": {
    "id": "iZ7HSVGjAKzA"
   },
   "source": [
    "From the above graph it is clear that Iraq is the country with most terrorism."
   ]
  },
  {
   "cell_type": "code",
   "execution_count": null,
   "metadata": {
    "id": "YG5VTFeDAKzC"
   },
   "outputs": [],
   "source": [
    "data1 = data_new[data_new['country_txt'].isin(countries)]"
   ]
  },
  {
   "cell_type": "code",
   "execution_count": null,
   "metadata": {
    "id": "alfLrGZfAKzD",
    "outputId": "8fc52541-caf4-4f11-afb2-47d0f85932fc"
   },
   "outputs": [
    {
     "data": {
      "text/plain": [
       "Index(['eventid', 'iyear', 'imonth', 'iday', 'extended', 'country',\n",
       "       'country_txt', 'region', 'region_txt', 'provstate', 'city', 'latitude',\n",
       "       'longitude', 'specificity', 'vicinity', 'location', 'summary', 'crit1',\n",
       "       'crit2', 'crit3', 'doubtterr', 'multiple', 'success', 'suicide',\n",
       "       'attacktype1', 'attacktype1_txt', 'targtype1', 'targtype1_txt',\n",
       "       'targsubtype1', 'targsubtype1_txt', 'corp1', 'target1', 'natlty1',\n",
       "       'natlty1_txt', 'gname', 'motive', 'guncertain1', 'individual', 'nperps',\n",
       "       'nperpcap', 'claimed', 'weaptype1', 'weaptype1_txt', 'weapsubtype1',\n",
       "       'weapsubtype1_txt', 'weapdetail', 'nkill', 'nkillus', 'nkillter',\n",
       "       'nwound', 'nwoundus', 'nwoundte', 'property', 'propextent',\n",
       "       'propextent_txt', 'propvalue', 'propcomment', 'ishostkid', 'ransom',\n",
       "       'scite1', 'scite2', 'scite3', 'dbsource', 'INT_LOG', 'INT_IDEO',\n",
       "       'INT_MISC', 'INT_ANY'],\n",
       "      dtype='object')"
      ]
     },
     "execution_count": 22,
     "metadata": {
      "tags": []
     },
     "output_type": "execute_result"
    }
   ],
   "source": [
    "data1.columns"
   ]
  },
  {
   "cell_type": "code",
   "execution_count": null,
   "metadata": {
    "id": "hZmFGOfvAKzE",
    "outputId": "cecc85a8-3929-4eee-869d-edba84cbf29d"
   },
   "outputs": [
    {
     "data": {
      "text/html": [
       "<div>\n",
       "<style scoped>\n",
       "    .dataframe tbody tr th:only-of-type {\n",
       "        vertical-align: middle;\n",
       "    }\n",
       "\n",
       "    .dataframe tbody tr th {\n",
       "        vertical-align: top;\n",
       "    }\n",
       "\n",
       "    .dataframe thead th {\n",
       "        text-align: right;\n",
       "    }\n",
       "</style>\n",
       "<table border=\"1\" class=\"dataframe\">\n",
       "  <thead>\n",
       "    <tr style=\"text-align: right;\">\n",
       "      <th></th>\n",
       "      <th>eventid</th>\n",
       "      <th>iyear</th>\n",
       "      <th>imonth</th>\n",
       "      <th>iday</th>\n",
       "      <th>extended</th>\n",
       "      <th>country</th>\n",
       "      <th>country_txt</th>\n",
       "      <th>region</th>\n",
       "      <th>region_txt</th>\n",
       "      <th>provstate</th>\n",
       "      <th>...</th>\n",
       "      <th>ishostkid</th>\n",
       "      <th>ransom</th>\n",
       "      <th>scite1</th>\n",
       "      <th>scite2</th>\n",
       "      <th>scite3</th>\n",
       "      <th>dbsource</th>\n",
       "      <th>INT_LOG</th>\n",
       "      <th>INT_IDEO</th>\n",
       "      <th>INT_MISC</th>\n",
       "      <th>INT_ANY</th>\n",
       "    </tr>\n",
       "  </thead>\n",
       "  <tbody>\n",
       "    <tr>\n",
       "      <th>2</th>\n",
       "      <td>197001000001</td>\n",
       "      <td>1970</td>\n",
       "      <td>1</td>\n",
       "      <td>0</td>\n",
       "      <td>0</td>\n",
       "      <td>160</td>\n",
       "      <td>Philippines</td>\n",
       "      <td>5</td>\n",
       "      <td>Southeast Asia</td>\n",
       "      <td>Tarlac</td>\n",
       "      <td>...</td>\n",
       "      <td>0.0</td>\n",
       "      <td>0.0</td>\n",
       "      <td>0</td>\n",
       "      <td>0</td>\n",
       "      <td>0</td>\n",
       "      <td>PGIS</td>\n",
       "      <td>-9</td>\n",
       "      <td>-9</td>\n",
       "      <td>1</td>\n",
       "      <td>1</td>\n",
       "    </tr>\n",
       "    <tr>\n",
       "      <th>26</th>\n",
       "      <td>197001210001</td>\n",
       "      <td>1970</td>\n",
       "      <td>1</td>\n",
       "      <td>21</td>\n",
       "      <td>0</td>\n",
       "      <td>160</td>\n",
       "      <td>Philippines</td>\n",
       "      <td>5</td>\n",
       "      <td>Southeast Asia</td>\n",
       "      <td>Metropolitan Manila</td>\n",
       "      <td>...</td>\n",
       "      <td>0.0</td>\n",
       "      <td>0.0</td>\n",
       "      <td>0</td>\n",
       "      <td>0</td>\n",
       "      <td>0</td>\n",
       "      <td>PGIS</td>\n",
       "      <td>-9</td>\n",
       "      <td>-9</td>\n",
       "      <td>1</td>\n",
       "      <td>1</td>\n",
       "    </tr>\n",
       "    <tr>\n",
       "      <th>39</th>\n",
       "      <td>197001310001</td>\n",
       "      <td>1970</td>\n",
       "      <td>1</td>\n",
       "      <td>31</td>\n",
       "      <td>0</td>\n",
       "      <td>160</td>\n",
       "      <td>Philippines</td>\n",
       "      <td>5</td>\n",
       "      <td>Southeast Asia</td>\n",
       "      <td>Tarlac</td>\n",
       "      <td>...</td>\n",
       "      <td>0.0</td>\n",
       "      <td>0.0</td>\n",
       "      <td>0</td>\n",
       "      <td>0</td>\n",
       "      <td>0</td>\n",
       "      <td>PGIS</td>\n",
       "      <td>0</td>\n",
       "      <td>1</td>\n",
       "      <td>1</td>\n",
       "      <td>1</td>\n",
       "    </tr>\n",
       "    <tr>\n",
       "      <th>96</th>\n",
       "      <td>197003000001</td>\n",
       "      <td>1970</td>\n",
       "      <td>3</td>\n",
       "      <td>0</td>\n",
       "      <td>0</td>\n",
       "      <td>160</td>\n",
       "      <td>Philippines</td>\n",
       "      <td>5</td>\n",
       "      <td>Southeast Asia</td>\n",
       "      <td>Metropolitian Manila</td>\n",
       "      <td>...</td>\n",
       "      <td>0.0</td>\n",
       "      <td>0.0</td>\n",
       "      <td>0</td>\n",
       "      <td>0</td>\n",
       "      <td>0</td>\n",
       "      <td>PGIS</td>\n",
       "      <td>-9</td>\n",
       "      <td>-9</td>\n",
       "      <td>1</td>\n",
       "      <td>1</td>\n",
       "    </tr>\n",
       "    <tr>\n",
       "      <th>150</th>\n",
       "      <td>197003240001</td>\n",
       "      <td>1970</td>\n",
       "      <td>3</td>\n",
       "      <td>24</td>\n",
       "      <td>0</td>\n",
       "      <td>160</td>\n",
       "      <td>Philippines</td>\n",
       "      <td>5</td>\n",
       "      <td>Southeast Asia</td>\n",
       "      <td>Pampanga</td>\n",
       "      <td>...</td>\n",
       "      <td>0.0</td>\n",
       "      <td>0.0</td>\n",
       "      <td>0</td>\n",
       "      <td>0</td>\n",
       "      <td>0</td>\n",
       "      <td>PGIS</td>\n",
       "      <td>-9</td>\n",
       "      <td>-9</td>\n",
       "      <td>1</td>\n",
       "      <td>1</td>\n",
       "    </tr>\n",
       "  </tbody>\n",
       "</table>\n",
       "<p>5 rows × 67 columns</p>\n",
       "</div>"
      ],
      "text/plain": [
       "          eventid  iyear  imonth  iday  extended  country  country_txt  \\\n",
       "2    197001000001   1970       1     0         0      160  Philippines   \n",
       "26   197001210001   1970       1    21         0      160  Philippines   \n",
       "39   197001310001   1970       1    31         0      160  Philippines   \n",
       "96   197003000001   1970       3     0         0      160  Philippines   \n",
       "150  197003240001   1970       3    24         0      160  Philippines   \n",
       "\n",
       "     region      region_txt             provstate  ... ishostkid  ransom  \\\n",
       "2         5  Southeast Asia                Tarlac  ...       0.0     0.0   \n",
       "26        5  Southeast Asia   Metropolitan Manila  ...       0.0     0.0   \n",
       "39        5  Southeast Asia                Tarlac  ...       0.0     0.0   \n",
       "96        5  Southeast Asia  Metropolitian Manila  ...       0.0     0.0   \n",
       "150       5  Southeast Asia              Pampanga  ...       0.0     0.0   \n",
       "\n",
       "     scite1  scite2  scite3 dbsource INT_LOG  INT_IDEO  INT_MISC  INT_ANY  \n",
       "2         0       0       0     PGIS      -9        -9         1        1  \n",
       "26        0       0       0     PGIS      -9        -9         1        1  \n",
       "39        0       0       0     PGIS       0         1         1        1  \n",
       "96        0       0       0     PGIS      -9        -9         1        1  \n",
       "150       0       0       0     PGIS      -9        -9         1        1  \n",
       "\n",
       "[5 rows x 67 columns]"
      ]
     },
     "execution_count": 23,
     "metadata": {
      "tags": []
     },
     "output_type": "execute_result"
    }
   ],
   "source": [
    "data1.head()"
   ]
  },
  {
   "cell_type": "code",
   "execution_count": null,
   "metadata": {
    "id": "w-AkHD4rAKzF",
    "outputId": "ff8379f0-696a-411c-8b0d-deb4cafd2049"
   },
   "outputs": [
    {
     "data": {
      "text/plain": [
       "2014    9805\n",
       "2016    8257\n",
       "2015    8209\n",
       "2013    8193\n",
       "2017    6685\n",
       "2012    5784\n",
       "2011    3729\n",
       "2010    3515\n",
       "2009    3387\n",
       "2008    3103\n",
       "Name: iyear, dtype: int64"
      ]
     },
     "execution_count": 24,
     "metadata": {
      "tags": []
     },
     "output_type": "execute_result"
    }
   ],
   "source": [
    "data1.iyear.value_counts().head(10)"
   ]
  },
  {
   "cell_type": "code",
   "execution_count": null,
   "metadata": {
    "id": "uS5ZJn3VAKzH",
    "outputId": "d8225d6e-1c14-4a03-bf5d-38855890c9c8"
   },
   "outputs": [
    {
     "data": {
      "text/plain": [
       "Text(0.5, 1.0, 'Years with most number of terrorist activity')"
      ]
     },
     "execution_count": 25,
     "metadata": {
      "tags": []
     },
     "output_type": "execute_result"
    },
    {
     "data": {
      "image/png": "[encoded data removed]",
      "text/plain": [
       "<Figure size 432x288 with 1 Axes>"
      ]
     },
     "metadata": {
      "needs_background": "light",
      "tags": []
     },
     "output_type": "display_data"
    }
   ],
   "source": [
    "year = data1.iyear.value_counts().head(5)\n",
    "plt.bar(year.index,year.values)\n",
    "plt.title(\"Terrorist activity in the recent Years\")\n"
   ]
  },
  {
   "cell_type": "markdown",
   "metadata": {
    "id": "fhLGC0bTAKzI"
   },
   "source": [
    "2014 was recorded to have most number of terrorist attacks."
   ]
  },
  {
   "cell_type": "code",
   "execution_count": null,
   "metadata": {
    "id": "6obR5jT1AKzJ",
    "outputId": "60afdaaa-9be2-4a37-f685-bdee8245b587"
   },
   "outputs": [
    {
     "data": {
      "text/plain": [
       "Text(0.5, 1.0, 'Type of Targets')"
      ]
     },
     "execution_count": 32,
     "metadata": {
      "tags": []
     },
     "output_type": "execute_result"
    },
    {
     "data": {
      "image/png": "[encoded data removed]",
      "text/plain": [
       "<Figure size 1440x360 with 1 Axes>"
      ]
     },
     "metadata": {
      "needs_background": "light",
      "tags": []
     },
     "output_type": "display_data"
    }
   ],
   "source": [
    "target = data1['targtype1_txt'].value_counts().head(10)\n",
    "fig,ax = plt.subplots(figsize=(20,5))\n",
    "ax.bar(target.index,target.values)\n",
    "plt.title('Type of Targets')"
   ]
  },
  {
   "cell_type": "code",
   "execution_count": null,
   "metadata": {
    "id": "fBya7hOMAKzK",
    "outputId": "af337a44-f05e-4407-df3a-591ea9dab081"
   },
   "outputs": [
    {
     "data": {
      "text/plain": [
       "Text(0.5, 1.0, 'Type of attacks')"
      ]
     },
     "execution_count": 34,
     "metadata": {
      "tags": []
     },
     "output_type": "execute_result"
    },
    {
     "data": {
      "image/png": "[encoded data removed]",
      "text/plain": [
       "<Figure size 1008x360 with 1 Axes>"
      ]
     },
     "metadata": {
      "needs_background": "light",
      "tags": []
     },
     "output_type": "display_data"
    }
   ],
   "source": [
    "weapon_type = data1['weaptype1_txt'].value_counts().head(5)\n",
    "fig,ax = plt.subplots(figsize=(14,5))\n",
    "ax.bar(weapon_type.index,weapon_type.values)\n",
    "plt.title('Type of attacks')"
   ]
  },
  {
   "cell_type": "code",
   "execution_count": null,
   "metadata": {
    "id": "zl80a7hBAKzM"
   },
   "outputs": [],
   "source": [
    "Private Citizens and property were targeted the most."
   ]
  },
  {
   "cell_type": "markdown",
   "metadata": {
    "id": "2fiZQ42hAKzO"
   },
   "source": [
    "Explosives were used most number of times."
   ]
  },
  {
   "cell_type": "code",
   "execution_count": null,
   "metadata": {
    "id": "N0h_iiBjAKzP",
    "outputId": "8ba93c4d-239e-41ff-d3bc-2e3c18f73ef1"
   },
   "outputs": [
    {
     "data": {
      "text/plain": [
       "Bombing/Explosion                      88255\n",
       "Armed Assault                          42669\n",
       "Assassination                          19312\n",
       "Hostage Taking (Kidnapping)            11158\n",
       "Facility/Infrastructure Attack         10356\n",
       "Unknown                                 7276\n",
       "Unarmed Assault                         1015\n",
       "Hostage Taking (Barricade Incident)      991\n",
       "Hijacking                                659\n",
       "Name: attacktype1_txt, dtype: int64"
      ]
     },
     "execution_count": 35,
     "metadata": {
      "tags": []
     },
     "output_type": "execute_result"
    }
   ],
   "source": [
    "data_new.attacktype1_txt.value_counts()"
   ]
  },
  {
   "cell_type": "code",
   "execution_count": null,
   "metadata": {
    "id": "SQv-bEi4AKzQ",
    "outputId": "cc823963-937a-412c-9982-111cf7056852"
   },
   "outputs": [
    {
     "data": {
      "text/plain": [
       "Text(0.5, 1.0, 'Type of attacks')"
      ]
     },
     "execution_count": 36,
     "metadata": {
      "tags": []
     },
     "output_type": "execute_result"
    },
    {
     "data": {
      "image/png": "[encoded data removed]",
      "text/plain": [
       "<Figure size 1008x360 with 1 Axes>"
      ]
     },
     "metadata": {
      "needs_background": "light",
      "tags": []
     },
     "output_type": "display_data"
    }
   ],
   "source": [
    "attack_type = data1['attacktype1_txt'].value_counts().head(5)\n",
    "fig,ax = plt.subplots(figsize=(14,5))\n",
    "ax.bar(attack_type.index,attack_type.values)\n",
    "plt.title('Type of attacks')"
   ]
  },
  {
   "cell_type": "markdown",
   "metadata": {
    "id": "QAX9CSaSAKzR"
   },
   "source": [
    "From the above few graphs, we can see that most terrorist activities in 10 countries with most terrorist activities, the damage is majorly focused on civilians and usage of explosives to target masses is very high. This can be due to political problems within the country."
   ]
  },
  {
   "cell_type": "code",
   "execution_count": null,
   "metadata": {
    "id": "hXUPT_3ZAKzS"
   },
   "outputs": [],
   "source": [
    "data2 = data1[data1['iyear'].isin(list(data1['iyear'].value_counts().head(5).index))]"
   ]
  },
  {
   "cell_type": "code",
   "execution_count": null,
   "metadata": {
    "id": "yLRG0hypAKzT",
    "outputId": "af86f0d7-c524-445c-a31f-52a417c713ec"
   },
   "outputs": [
    {
     "data": {
      "text/plain": [
       "Text(0.5,1,'Type of attacks')"
      ]
     },
     "execution_count": 61,
     "metadata": {
      "tags": []
     },
     "output_type": "execute_result"
    },
    {
     "data": {
      "image/png": "[encoded data removed]",
      "text/plain": [
       "<Figure size 1008x360 with 1 Axes>"
      ]
     },
     "metadata": {
      "tags": []
     },
     "output_type": "display_data"
    }
   ],
   "source": [
    "attack_type = data2['attacktype1_txt'].value_counts().head(5)\n",
    "fig,ax = plt.subplots(figsize=(14,5))\n",
    "ax.bar(attack_type.index,attack_type.values)\n",
    "plt.title('Type of attacks')"
   ]
  },
  {
   "cell_type": "code",
   "execution_count": null,
   "metadata": {
    "id": "R7Zofmb4AKzV",
    "outputId": "ea2ae4dc-a25c-4336-c095-12292aa7333f"
   },
   "outputs": [
    {
     "data": {
      "text/plain": [
       "Text(0.5,1,'Type of Targets')"
      ]
     },
     "execution_count": 62,
     "metadata": {
      "tags": []
     },
     "output_type": "execute_result"
    },
    {
     "data": {
      "image/png": "[encoded data removed]",
      "text/plain": [
       "<Figure size 1440x360 with 1 Axes>"
      ]
     },
     "metadata": {
      "tags": []
     },
     "output_type": "display_data"
    }
   ],
   "source": [
    "target = data2['targtype1_txt'].value_counts().head(10)\n",
    "fig,ax = plt.subplots(figsize=(20,5))\n",
    "ax.bar(target.index,target.values)\n",
    "plt.title('Type of Targets')"
   ]
  },
  {
   "cell_type": "markdown",
   "metadata": {
    "id": "EyzyNBwzAKzX"
   },
   "source": [
    "Attacks on government officials have drastically increased.We can conclude that there might be some political issue either due to government not meeting to peoples demands or inter-country disputes."
   ]
  },
  {
   "cell_type": "code",
   "execution_count": null,
   "metadata": {
    "id": "jx5lAVPuAKzY",
    "outputId": "f92bfcac-4a0d-40bd-c01e-e04bfc630ef4"
   },
   "outputs": [
    {
     "data": {
      "text/plain": [
       "Unknown         9775\n",
       "Baghdad         7589\n",
       "Karachi         2652\n",
       "Lima            2359\n",
       "Mosul           2265\n",
       "Belfast         2171\n",
       "Santiago        1621\n",
       "Mogadishu       1581\n",
       "San Salvador    1558\n",
       "Istanbul        1048\n",
       "Name: city, dtype: int64"
      ]
     },
     "execution_count": 63,
     "metadata": {
      "tags": []
     },
     "output_type": "execute_result"
    }
   ],
   "source": [
    "cities_with_most_terrorism = data_new.city.value_counts().head(10)\n",
    "cities = list(cities_with_most_terrorism.index)\n",
    "cities_with_most_terrorism"
   ]
  },
  {
   "cell_type": "code",
   "execution_count": null,
   "metadata": {
    "id": "LC6p8FMvAKza",
    "outputId": "f1e00ca9-edf4-4a58-8553-0c64539ffee0"
   },
   "outputs": [
    {
     "data": {
      "text/plain": [
       "Text(0.5,1,'Countries with most terrorism')"
      ]
     },
     "execution_count": 64,
     "metadata": {
      "tags": []
     },
     "output_type": "execute_result"
    },
    {
     "data": {
      "image/png": "[encoded data removed]",
      "text/plain": [
       "<Figure size 1008x360 with 1 Axes>"
      ]
     },
     "metadata": {
      "tags": []
     },
     "output_type": "display_data"
    }
   ],
   "source": [
    "fig, ax = plt.subplots(figsize=(14,5))\n",
    "ax.bar(cities_with_most_terrorism.index,cities_with_most_terrorism.values)\n",
    "plt.title('Countries with most terrorism')"
   ]
  },
  {
   "cell_type": "code",
   "execution_count": null,
   "metadata": {
    "id": "tYeznh02AKzc"
   },
   "outputs": [],
   "source": [
    "religious_target = data_new[data_new['targtype1_txt']=='Religious Figures/Institutions']"
   ]
  },
  {
   "cell_type": "code",
   "execution_count": null,
   "metadata": {
    "id": "8bCfj8FBAKze",
    "outputId": "15e893a6-54ac-4650-c488-81492574f8ff"
   },
   "outputs": [
    {
     "data": {
      "text/plain": [
       "Text(0.5, 1.0, 'Countries with most terrorism on religious figures')"
      ]
     },
     "execution_count": 39,
     "metadata": {
      "tags": []
     },
     "output_type": "execute_result"
    },
    {
     "data": {
      "image/png": "[encoded data removed]",
      "text/plain": [
       "<Figure size 432x288 with 1 Axes>"
      ]
     },
     "metadata": {
      "needs_background": "light",
      "tags": []
     },
     "output_type": "display_data"
    }
   ],
   "source": [
    "plt.bar(religious_target['country_txt'].value_counts().head().index,religious_target['country_txt'].value_counts().head().values)\n",
    "plt.title(\"Countries with most terrorism on religious figures\")"
   ]
  },
  {
   "cell_type": "markdown",
   "metadata": {
    "id": "euOMKHkUAKzg"
   },
   "source": [
    "Iraq is the country with most terrorism due to religious reasons."
   ]
  }
 ],
 "metadata": {
  "colab": {
   "name": "Exploratory Data Analysis-Terrorism.ipynb",
   "provenance": []
  },
  "kernelspec": {
   "display_name": "Python 3",
   "language": "python",
   "name": "python3"
  },
  "language_info": {
   "codemirror_mode": {
    "name": "ipython",
    "version": 3
   },
   "file_extension": ".py",
   "mimetype": "text/x-python",
   "name": "python",
   "nbconvert_exporter": "python",
   "pygments_lexer": "ipython3",
   "version": "3.8.5"
  }
 },
 "nbformat": 4,
 "nbformat_minor": 1
}
